{
  "cells": [
    {
      "cell_type": "code",
      "source": [
        "!git clone https://github.com/daffirds/RobloxGameChatAnalysis.git"
      ],
      "metadata": {
        "colab": {
          "base_uri": "https://localhost:8080/"
        },
        "id": "RYdb89M3o5xb",
        "outputId": "1fa9ac5c-e9c2-440e-960d-d9c9d37f6bb1"
      },
      "id": "RYdb89M3o5xb",
      "execution_count": 7,
      "outputs": [
        {
          "output_type": "stream",
          "name": "stdout",
          "text": [
            "Cloning into 'RobloxGameChatAnalysis'...\n",
            "remote: Enumerating objects: 17, done.\u001b[K\n",
            "remote: Counting objects: 100% (17/17), done.\u001b[K\n",
            "remote: Compressing objects: 100% (15/15), done.\u001b[K\n",
            "remote: Total 17 (delta 3), reused 0 (delta 0), pack-reused 0 (from 0)\u001b[K\n",
            "Receiving objects: 100% (17/17), 371.36 KiB | 10.04 MiB/s, done.\n",
            "Resolving deltas: 100% (3/3), done.\n"
          ]
        }
      ]
    },
    {
      "cell_type": "code",
      "execution_count": 21,
      "id": "56cfb4e2-ec8f-4655-9d86-dabe3320280a",
      "metadata": {
        "id": "56cfb4e2-ec8f-4655-9d86-dabe3320280a"
      },
      "outputs": [],
      "source": [
        "import pandas as pd\n",
        "import numpy as np\n",
        "from sklearn.model_selection import train_test_split\n",
        "from sklearn.metrics import classification_report, confusion_matrix, accuracy_score, precision_score, recall_score, f1_score\n",
        "from transformers import RobertaTokenizer, TFRobertaModel\n",
        "from tensorflow.keras.models import Model\n",
        "from tensorflow.keras.layers import Input, Dense, Dropout, Bidirectional, GRU, AdditiveAttention, Lambda, LayerNormalization\n",
        "from tensorflow.keras.callbacks import EarlyStopping, ReduceLROnPlateau\n",
        "from tensorflow.keras.optimizers import Adam\n",
        "from sklearn.preprocessing import LabelEncoder\n",
        "import matplotlib.pyplot as plt\n",
        "import seaborn as sns\n",
        "import tensorflow as tf\n",
        "import re"
      ]
    },
    {
      "cell_type": "code",
      "execution_count": 9,
      "id": "c11ed6ba-5e10-4c24-b899-fb997f68ec6c",
      "metadata": {
        "id": "c11ed6ba-5e10-4c24-b899-fb997f68ec6c"
      },
      "outputs": [],
      "source": [
        "# Load the dataset\n",
        "file_path = '/content/RobloxGameChatAnalysis/indonesian_chat.csv'\n",
        "df = pd.read_csv(file_path)\n",
        "df['label'] = df['label'].astype(str)"
      ]
    },
    {
      "cell_type": "code",
      "execution_count": 22,
      "id": "d954a46e-ea4a-4e9c-812b-d05b3a8cc943",
      "metadata": {
        "id": "d954a46e-ea4a-4e9c-812b-d05b3a8cc943"
      },
      "outputs": [],
      "source": [
        "def clean_chat_text(text):\n",
        "    text = text.replace('\\\\n', ' ').replace('\\n', ' ')\n",
        "    sentences = re.sub(r'(\\\\x[0-9a-f]{2})|([^a-zA-Z0-9\\s])', ' ', text)\n",
        "    return re.sub(r'\\s+', ' ', sentences).strip()\n",
        "\n",
        "df['chat'] = df['chat'].apply(clean_chat_text)"
      ]
    },
    {
      "cell_type": "code",
      "execution_count": 24,
      "id": "87349d8b-85e0-4647-befe-c50ea17cc354",
      "metadata": {
        "id": "87349d8b-85e0-4647-befe-c50ea17cc354"
      },
      "outputs": [],
      "source": [
        "# Encode labels\n",
        "le = LabelEncoder()\n",
        "df['label'] = le.fit_transform(df['label'])\n",
        "\n",
        "X_text = df['chat'].values\n",
        "y = df['label'].values\n",
        "num_classes = len(np.unique(y))"
      ]
    },
    {
      "cell_type": "code",
      "execution_count": 25,
      "id": "eee2f259-3aaf-4b5b-a9fd-d78a05a53878",
      "metadata": {
        "colab": {
          "base_uri": "https://localhost:8080/"
        },
        "id": "eee2f259-3aaf-4b5b-a9fd-d78a05a53878",
        "outputId": "89270dbe-16d5-455b-97f7-db0ff4c4a8aa"
      },
      "outputs": [
        {
          "output_type": "stream",
          "name": "stderr",
          "text": [
            "Some weights of the PyTorch model were not used when initializing the TF 2.0 model TFRobertaModel: ['lm_head.layer_norm.weight', 'lm_head.bias', 'lm_head.dense.bias', 'lm_head.layer_norm.bias', 'roberta.embeddings.position_ids', 'lm_head.dense.weight']\n",
            "- This IS expected if you are initializing TFRobertaModel from a PyTorch model trained on another task or with another architecture (e.g. initializing a TFBertForSequenceClassification model from a BertForPreTraining model).\n",
            "- This IS NOT expected if you are initializing TFRobertaModel from a PyTorch model that you expect to be exactly identical (e.g. initializing a TFBertForSequenceClassification model from a BertForSequenceClassification model).\n",
            "Some weights or buffers of the TF 2.0 model TFRobertaModel were not initialized from the PyTorch model and are newly initialized: ['roberta.pooler.dense.weight', 'roberta.pooler.dense.bias']\n",
            "You should probably TRAIN this model on a down-stream task to be able to use it for predictions and inference.\n"
          ]
        }
      ],
      "source": [
        "# Load BERT tokenizer and model\n",
        "MODEL_NAME = 'flax-community/indonesian-roberta-base'\n",
        "tokenizer = RobertaTokenizer.from_pretrained(MODEL_NAME)\n",
        "roberta_model = TFRobertaModel.from_pretrained(MODEL_NAME)\n",
        "\n",
        "max_len = 128"
      ]
    },
    {
      "cell_type": "code",
      "source": [
        "# Tokenize dengan RoBERTa tokenizer\n",
        "def encode_texts(texts):\n",
        "    return tokenizer(\n",
        "        list(texts),\n",
        "        padding='max_length',\n",
        "        truncation=True,\n",
        "        max_length=max_len,\n",
        "        return_tensors='np'\n",
        "    )\n",
        "\n",
        "encodings = encode_texts(X_text)\n",
        "X_input_ids = encodings['input_ids']\n",
        "X_attention_mask = encodings['attention_mask']"
      ],
      "metadata": {
        "id": "eQVKyIaJiAO_"
      },
      "id": "eQVKyIaJiAO_",
      "execution_count": 26,
      "outputs": []
    },
    {
      "cell_type": "code",
      "execution_count": 27,
      "id": "120c5e66-ddf1-4bb6-85a3-dab0e6b1109d",
      "metadata": {
        "id": "120c5e66-ddf1-4bb6-85a3-dab0e6b1109d"
      },
      "outputs": [],
      "source": [
        "# Split the data\n",
        "train_idx, val_idx = train_test_split(\n",
        "    np.arange(len(X_text)), test_size=0.2, stratify=y, random_state=42\n",
        ")\n",
        "\n",
        "X_train_ids = X_input_ids[train_idx]\n",
        "X_val_ids = X_input_ids[val_idx]\n",
        "X_train_mask = X_attention_mask[train_idx]\n",
        "X_val_mask = X_attention_mask[val_idx]\n",
        "y_train = y[train_idx]\n",
        "y_val = y[val_idx]"
      ]
    },
    {
      "cell_type": "code",
      "execution_count": 28,
      "id": "dbde4b22-856e-4bab-af0f-dfc855fb0cf4",
      "metadata": {
        "id": "dbde4b22-856e-4bab-af0f-dfc855fb0cf4"
      },
      "outputs": [],
      "source": [
        "# Build RoBERTa + Stacked BiGRU + Attention model\n",
        "def build_model():\n",
        "    input_ids = Input(shape=(max_len,), dtype=tf.int32, name='input_ids')\n",
        "    attention_mask = Input(shape=(max_len,), dtype=tf.int32, name='attention_mask')\n",
        "\n",
        "    # --- PERUBAHAN 3: Gunakan model RoBERTa ---\n",
        "    # Gunakan Lambda untuk memastikan kompatibilitas\n",
        "    roberta_output = Lambda(lambda x: roberta_model(x[0], attention_mask=x[1])[0], output_shape=(max_len, 768))([input_ids, attention_mask])\n",
        "\n",
        "    x = Bidirectional(GRU(64, return_sequences=True))(roberta_output)\n",
        "    x = LayerNormalization()(x)\n",
        "    x = Dropout(0.3)(x)\n",
        "\n",
        "    x = Bidirectional(GRU(32, return_sequences=True))(x)\n",
        "    x = LayerNormalization()(x)\n",
        "    x = Dropout(0.3)(x)\n",
        "\n",
        "    attention_out = AdditiveAttention()([x, x])\n",
        "    x = Dropout(0.3)(attention_out)\n",
        "\n",
        "    x = Bidirectional(GRU(32))(x)\n",
        "    x = Dropout(0.3)(x)\n",
        "\n",
        "    output = Dense(num_classes, activation='softmax')(x)\n",
        "\n",
        "    model = Model(inputs=[input_ids, attention_mask], outputs=output)\n",
        "    model.compile(optimizer=Adam(learning_rate=2e-5, clipnorm=1.0), loss='sparse_categorical_crossentropy', metrics=['accuracy'])\n",
        "    return model\n",
        "\n",
        "# Initialize the model\n",
        "model = build_model()"
      ]
    },
    {
      "cell_type": "code",
      "execution_count": 29,
      "id": "1125c1c1-d7a9-4f21-b7bd-cabe67a96982",
      "metadata": {
        "colab": {
          "base_uri": "https://localhost:8080/"
        },
        "id": "1125c1c1-d7a9-4f21-b7bd-cabe67a96982",
        "outputId": "1adf331e-8308-4e1a-ef4e-3c3b30f8e79b"
      },
      "outputs": [
        {
          "output_type": "stream",
          "name": "stdout",
          "text": [
            "Epoch 1/10\n",
            "\u001b[1m536/536\u001b[0m \u001b[32m━━━━━━━━━━━━━━━━━━━━\u001b[0m\u001b[37m\u001b[0m \u001b[1m137s\u001b[0m 223ms/step - accuracy: 0.2843 - loss: 1.5208 - val_accuracy: 0.4797 - val_loss: 1.1913 - learning_rate: 2.0000e-05\n",
            "Epoch 2/10\n",
            "\u001b[1m536/536\u001b[0m \u001b[32m━━━━━━━━━━━━━━━━━━━━\u001b[0m\u001b[37m\u001b[0m \u001b[1m135s\u001b[0m 210ms/step - accuracy: 0.4199 - loss: 1.2926 - val_accuracy: 0.5493 - val_loss: 1.0698 - learning_rate: 2.0000e-05\n",
            "Epoch 3/10\n",
            "\u001b[1m536/536\u001b[0m \u001b[32m━━━━━━━━━━━━━━━━━━━━\u001b[0m\u001b[37m\u001b[0m \u001b[1m142s\u001b[0m 210ms/step - accuracy: 0.4999 - loss: 1.1489 - val_accuracy: 0.5759 - val_loss: 1.0092 - learning_rate: 2.0000e-05\n",
            "Epoch 4/10\n",
            "\u001b[1m536/536\u001b[0m \u001b[32m━━━━━━━━━━━━━━━━━━━━\u001b[0m\u001b[37m\u001b[0m \u001b[1m167s\u001b[0m 257ms/step - accuracy: 0.5498 - loss: 1.0682 - val_accuracy: 0.5997 - val_loss: 0.9711 - learning_rate: 2.0000e-05\n",
            "Epoch 5/10\n",
            "\u001b[1m536/536\u001b[0m \u001b[32m━━━━━━━━━━━━━━━━━━━━\u001b[0m\u001b[37m\u001b[0m \u001b[1m116s\u001b[0m 208ms/step - accuracy: 0.5882 - loss: 1.0079 - val_accuracy: 0.6165 - val_loss: 0.9450 - learning_rate: 2.0000e-05\n",
            "Epoch 6/10\n",
            "\u001b[1m536/536\u001b[0m \u001b[32m━━━━━━━━━━━━━━━━━━━━\u001b[0m\u001b[37m\u001b[0m \u001b[1m142s\u001b[0m 208ms/step - accuracy: 0.6066 - loss: 0.9683 - val_accuracy: 0.6348 - val_loss: 0.9224 - learning_rate: 2.0000e-05\n",
            "Epoch 7/10\n",
            "\u001b[1m536/536\u001b[0m \u001b[32m━━━━━━━━━━━━━━━━━━━━\u001b[0m\u001b[37m\u001b[0m \u001b[1m143s\u001b[0m 210ms/step - accuracy: 0.6154 - loss: 0.9372 - val_accuracy: 0.6362 - val_loss: 0.9069 - learning_rate: 2.0000e-05\n",
            "Epoch 8/10\n",
            "\u001b[1m536/536\u001b[0m \u001b[32m━━━━━━━━━━━━━━━━━━━━\u001b[0m\u001b[37m\u001b[0m \u001b[1m142s\u001b[0m 210ms/step - accuracy: 0.6442 - loss: 0.8803 - val_accuracy: 0.6469 - val_loss: 0.8951 - learning_rate: 2.0000e-05\n",
            "Epoch 9/10\n",
            "\u001b[1m536/536\u001b[0m \u001b[32m━━━━━━━━━━━━━━━━━━━━\u001b[0m\u001b[37m\u001b[0m \u001b[1m113s\u001b[0m 210ms/step - accuracy: 0.6528 - loss: 0.8608 - val_accuracy: 0.6567 - val_loss: 0.8801 - learning_rate: 2.0000e-05\n",
            "Epoch 10/10\n",
            "\u001b[1m536/536\u001b[0m \u001b[32m━━━━━━━━━━━━━━━━━━━━\u001b[0m\u001b[37m\u001b[0m \u001b[1m142s\u001b[0m 209ms/step - accuracy: 0.6561 - loss: 0.8558 - val_accuracy: 0.6637 - val_loss: 0.8694 - learning_rate: 2.0000e-05\n"
          ]
        }
      ],
      "source": [
        "# Train the model\n",
        "callbacks = [\n",
        "    EarlyStopping(monitor='val_loss', patience=3, restore_best_weights=True),\n",
        "    ReduceLROnPlateau(monitor='val_loss', factor=0.3, patience=2, min_lr=1e-6)\n",
        "]\n",
        "\n",
        "history = model.fit(\n",
        "    [X_train_ids, X_train_mask],\n",
        "    y_train,\n",
        "    validation_data=([X_val_ids, X_val_mask], y_val),\n",
        "    epochs=10,\n",
        "    batch_size=16,\n",
        "    callbacks=callbacks,\n",
        "    verbose=1\n",
        ")"
      ]
    },
    {
      "cell_type": "code",
      "execution_count": 30,
      "id": "dd318c4f-c75b-4d28-9969-d740c14bb356",
      "metadata": {
        "colab": {
          "base_uri": "https://localhost:8080/"
        },
        "id": "dd318c4f-c75b-4d28-9969-d740c14bb356",
        "outputId": "17767168-b7bb-4abf-c0c0-2faf7982b583"
      },
      "outputs": [
        {
          "output_type": "stream",
          "name": "stdout",
          "text": [
            "\u001b[1m67/67\u001b[0m \u001b[32m━━━━━━━━━━━━━━━━━━━━\u001b[0m\u001b[37m\u001b[0m \u001b[1m24s\u001b[0m 324ms/step\n",
            "\n",
            "Evaluation Results:\n",
            "  Accuracy: 0.6637\n",
            "  Precision: 0.6685\n",
            "  Recall: 0.6637\n",
            "  F1-Score: 0.6649\n"
          ]
        }
      ],
      "source": [
        "# Evaluate\n",
        "y_pred = np.argmax(model.predict([X_val_ids, X_val_mask]), axis=-1)\n",
        "\n",
        "accuracy = accuracy_score(y_val, y_pred)\n",
        "precision = precision_score(y_val, y_pred, average='weighted')\n",
        "recall = recall_score(y_val, y_pred, average='weighted')\n",
        "f1 = f1_score(y_val, y_pred, average='weighted')\n",
        "\n",
        "print(\"\\nEvaluation Results:\")\n",
        "print(f\"  Accuracy: {accuracy:.4f}\")\n",
        "print(f\"  Precision: {precision:.4f}\")\n",
        "print(f\"  Recall: {recall:.4f}\")\n",
        "print(f\"  F1-Score: {f1:.4f}\")"
      ]
    },
    {
      "cell_type": "code",
      "execution_count": 31,
      "id": "39ea0cb7-5647-4335-98c3-f865a6add832",
      "metadata": {
        "colab": {
          "base_uri": "https://localhost:8080/",
          "height": 564
        },
        "id": "39ea0cb7-5647-4335-98c3-f865a6add832",
        "outputId": "a383c208-22a9-4a37-87f0-c31db3a61b0f"
      },
      "outputs": [
        {
          "output_type": "display_data",
          "data": {
            "text/plain": [
              "<Figure size 800x600 with 2 Axes>"
            ],
            "image/png": "[encoded data removed]"
          },
          "metadata": {}
        }
      ],
      "source": [
        "# Confusion Matrix\n",
        "cm = confusion_matrix(y_val, y_pred)\n",
        "plt.figure(figsize=(8, 6))\n",
        "sns.heatmap(cm, annot=True, fmt='d', cmap='Blues', xticklabels=le.classes_, yticklabels=le.classes_)\n",
        "plt.title('Confusion Matrix')\n",
        "plt.ylabel('True Label')\n",
        "plt.xlabel('Predicted Label')\n",
        "plt.show()"
      ]
    },
    {
      "cell_type": "code",
      "execution_count": 20,
      "id": "9ad3caac-253b-42b7-92a9-eb48a4f3119a",
      "metadata": {
        "colab": {
          "base_uri": "https://localhost:8080/"
        },
        "id": "9ad3caac-253b-42b7-92a9-eb48a4f3119a",
        "outputId": "17851fc1-3d07-46e1-952c-01b196b26cd0"
      },
      "outputs": [
        {
          "output_type": "stream",
          "name": "stderr",
          "text": [
            "WARNING:absl:You are saving your model as an HDF5 file via `model.save()` or `keras.saving.save_model(model)`. This file format is considered legacy. We recommend using instead the native Keras format, e.g. `model.save('my_model.keras')` or `keras.saving.save_model(model, 'my_model.keras')`. \n"
          ]
        }
      ],
      "source": [
        "model.save('RoBERTa_StackedBiGRU_Attention_Model.h5')"
      ]
    },
    {
      "cell_type": "code",
      "source": [],
      "metadata": {
        "id": "5AjXSxCn0Pzt"
      },
      "id": "5AjXSxCn0Pzt",
      "execution_count": null,
      "outputs": []
    }
  ],
  "metadata": {
    "kernelspec": {
      "display_name": "Python 3",
      "name": "python3"
    },
    "language_info": {
      "codemirror_mode": {
        "name": "ipython",
        "version": 3
      },
      "file_extension": ".py",
      "mimetype": "text/x-python",
      "name": "python",
      "nbconvert_exporter": "python",
      "pygments_lexer": "ipython3",
      "version": "3.12.10"
    },
    "colab": {
      "provenance": [],
      "gpuType": "T4"
    },
    "accelerator": "GPU"
  },
  "nbformat": 4,
  "nbformat_minor": 5
}