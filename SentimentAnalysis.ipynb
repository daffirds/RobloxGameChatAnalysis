{
 "cells": [
  {
   "cell_type": "code",
   "execution_count": 7,
   "id": "56cfb4e2-ec8f-4655-9d86-dabe3320280a",
   "metadata": {},
   "outputs": [],
   "source": [
    "import pandas as pd\n",
    "import numpy as np\n",
    "from sklearn.model_selection import train_test_split\n",
    "from sklearn.ensemble import RandomForestClassifier\n",
    "from sklearn.metrics import classification_report, confusion_matrix, accuracy_score, precision_score, recall_score, f1_score\n",
    "from tensorflow.keras.models import Model\n",
    "from tensorflow.keras.layers import Input, Embedding, GRU, Dense, Dropout\n",
    "from tensorflow.keras.preprocessing.text import Tokenizer\n",
    "from tensorflow.keras.preprocessing.sequence import pad_sequences\n",
    "from tensorflow.keras.callbacks import EarlyStopping, ReduceLROnPlateau\n",
    "from tensorflow.keras.optimizers import Adam\n",
    "from sklearn.preprocessing import LabelEncoder\n",
    "import re\n",
    "import matplotlib.pyplot as plt\n",
    "import seaborn as sns\n",
    "import tensorflow as tf"
   ]
  },
  {
   "cell_type": "code",
   "execution_count": 39,
   "id": "c11ed6ba-5e10-4c24-b899-fb997f68ec6c",
   "metadata": {},
   "outputs": [],
   "source": [
    "# Load the dataset\n",
    "file_path = 'indonesian_chat.csv'\n",
    "df = pd.read_csv(file_path)    \n",
    "df['label'] = df['label'].astype(str)"
   ]
  },
  {
   "cell_type": "code",
   "execution_count": 50,
   "id": "d954a46e-ea4a-4e9c-812b-d05b3a8cc943",
   "metadata": {},
   "outputs": [],
   "source": [
    "def clean_chat_text(text):\n",
    "    text = text.replace('\\\\n', ' ').replace('\\n', ' ')\n",
    "    sentence = re.findall(r'(\\\\x[0-9a-f]{2})|([a-z0-9]+)', text.lower())\n",
    "    sentence_list = [item for sublist in sentence for item in sublist if item]\n",
    "    return ' '.join(sentence_list)\n",
    "\n",
    "df['chat'] = df['chat'].apply(clean_chat_text)"
   ]
  },
  {
   "cell_type": "code",
   "execution_count": 41,
   "id": "87349d8b-85e0-4647-befe-c50ea17cc354",
   "metadata": {},
   "outputs": [],
   "source": [
    "# Encode labels\n",
    "le = LabelEncoder()\n",
    "df['label'] = le.fit_transform(df['label'])\n",
    "\n",
    "X_text = df['chat'].values\n",
    "y = df['label'].values\n",
    "num_classes = len(np.unique(y))"
   ]
  },
  {
   "cell_type": "code",
   "execution_count": 42,
   "id": "eee2f259-3aaf-4b5b-a9fd-d78a05a53878",
   "metadata": {},
   "outputs": [],
   "source": [
    "# Tokenize texts\n",
    "max_len = 128\n",
    "max_words = 10000\n",
    "tokenizer = Tokenizer(num_words=max_words, oov_token=\"<OOV>\")\n",
    "tokenizer.fit_on_texts(X_text)\n",
    "X_seq = tokenizer.texts_to_sequences(X_text)\n",
    "X_pad = pad_sequences(X_seq, maxlen=max_len)"
   ]
  },
  {
   "cell_type": "code",
   "execution_count": 43,
   "id": "120c5e66-ddf1-4bb6-85a3-dab0e6b1109d",
   "metadata": {},
   "outputs": [],
   "source": [
    "# Split the data once\n",
    "X_train, X_val, y_train, y_val = train_test_split(X_pad, y, test_size=0.2, random_state=42, stratify=y)"
   ]
  },
  {
   "cell_type": "code",
   "execution_count": 44,
   "id": "dbde4b22-856e-4bab-af0f-dfc855fb0cf4",
   "metadata": {},
   "outputs": [],
   "source": [
    "# Define and train GRU-based model to extract features\n",
    "def build_gru_model():\n",
    "    input_text = Input(shape=(max_len,), dtype=tf.int32, name='input_text')\n",
    "    x = Embedding(input_dim=max_words, output_dim=128)(input_text)\n",
    "    x = GRU(64, return_sequences=False, dropout=0.3)(x)\n",
    "    x = Dropout(0.5)(x)\n",
    "    model = Model(inputs=input_text, outputs=x)\n",
    "    return model\n",
    "\n",
    "gru_model = build_gru_model()"
   ]
  },
  {
   "cell_type": "code",
   "execution_count": 45,
   "id": "1125c1c1-d7a9-4f21-b7bd-cabe67a96982",
   "metadata": {},
   "outputs": [
    {
     "name": "stdout",
     "output_type": "stream",
     "text": [
      "Epoch 1/10\n",
      "\u001b[1m1071/1071\u001b[0m \u001b[32m━━━━━━━━━━━━━━━━━━━━\u001b[0m\u001b[37m\u001b[0m \u001b[1m48s\u001b[0m 42ms/step - accuracy: 0.3139 - loss: 1.3729 - val_accuracy: 0.4666 - val_loss: 1.2763 - learning_rate: 1.0000e-04\n",
      "Epoch 2/10\n",
      "\u001b[1m1071/1071\u001b[0m \u001b[32m━━━━━━━━━━━━━━━━━━━━\u001b[0m\u001b[37m\u001b[0m \u001b[1m45s\u001b[0m 42ms/step - accuracy: 0.5626 - loss: 1.1530 - val_accuracy: 0.6843 - val_loss: 0.8786 - learning_rate: 1.0000e-04\n",
      "Epoch 3/10\n",
      "\u001b[1m1071/1071\u001b[0m \u001b[32m━━━━━━━━━━━━━━━━━━━━\u001b[0m\u001b[37m\u001b[0m \u001b[1m45s\u001b[0m 42ms/step - accuracy: 0.7540 - loss: 0.7236 - val_accuracy: 0.7543 - val_loss: 0.6757 - learning_rate: 1.0000e-04\n",
      "Epoch 4/10\n",
      "\u001b[1m1071/1071\u001b[0m \u001b[32m━━━━━━━━━━━━━━━━━━━━\u001b[0m\u001b[37m\u001b[0m \u001b[1m45s\u001b[0m 42ms/step - accuracy: 0.8466 - loss: 0.4830 - val_accuracy: 0.7847 - val_loss: 0.6010 - learning_rate: 1.0000e-04\n",
      "Epoch 5/10\n",
      "\u001b[1m1071/1071\u001b[0m \u001b[32m━━━━━━━━━━━━━━━━━━━━\u001b[0m\u001b[37m\u001b[0m \u001b[1m44s\u001b[0m 41ms/step - accuracy: 0.8835 - loss: 0.3578 - val_accuracy: 0.8029 - val_loss: 0.5789 - learning_rate: 1.0000e-04\n",
      "Epoch 6/10\n",
      "\u001b[1m1071/1071\u001b[0m \u001b[32m━━━━━━━━━━━━━━━━━━━━\u001b[0m\u001b[37m\u001b[0m \u001b[1m45s\u001b[0m 42ms/step - accuracy: 0.9128 - loss: 0.2788 - val_accuracy: 0.8071 - val_loss: 0.5926 - learning_rate: 1.0000e-04\n",
      "Epoch 7/10\n",
      "\u001b[1m1071/1071\u001b[0m \u001b[32m━━━━━━━━━━━━━━━━━━━━\u001b[0m\u001b[37m\u001b[0m \u001b[1m45s\u001b[0m 42ms/step - accuracy: 0.9377 - loss: 0.2147 - val_accuracy: 0.8090 - val_loss: 0.6076 - learning_rate: 3.0000e-05\n"
     ]
    },
    {
     "data": {
      "text/plain": [
       "<keras.src.callbacks.history.History at 0x264a3d86d80>"
      ]
     },
     "execution_count": 45,
     "metadata": {},
     "output_type": "execute_result"
    }
   ],
   "source": [
    "# Train GRU model using classification head temporarily\n",
    "x = gru_model.output\n",
    "output = Dense(num_classes, activation='softmax')(x)\n",
    "temp_model = Model(inputs=gru_model.input, outputs=output)\n",
    "temp_model.compile(optimizer=Adam(1e-4), loss='sparse_categorical_crossentropy', metrics=['accuracy'])\n",
    "\n",
    "callbacks = [\n",
    "    EarlyStopping(monitor='val_loss', patience=2, restore_best_weights=True),\n",
    "    ReduceLROnPlateau(monitor='val_loss', factor=0.3, patience=1, min_lr=1e-6)\n",
    "]\n",
    "\n",
    "temp_model.fit(\n",
    "    X_train,\n",
    "    y_train,\n",
    "    validation_data=(X_val, y_val),\n",
    "    epochs=10,\n",
    "    batch_size=8,\n",
    "    callbacks=callbacks,\n",
    "    verbose=1\n",
    ")"
   ]
  },
  {
   "cell_type": "code",
   "execution_count": 46,
   "id": "dd318c4f-c75b-4d28-9969-d740c14bb356",
   "metadata": {},
   "outputs": [
    {
     "name": "stdout",
     "output_type": "stream",
     "text": [
      "\u001b[1m268/268\u001b[0m \u001b[32m━━━━━━━━━━━━━━━━━━━━\u001b[0m\u001b[37m\u001b[0m \u001b[1m4s\u001b[0m 14ms/step\n",
      "\u001b[1m67/67\u001b[0m \u001b[32m━━━━━━━━━━━━━━━━━━━━\u001b[0m\u001b[37m\u001b[0m \u001b[1m1s\u001b[0m 14ms/step\n"
     ]
    }
   ],
   "source": [
    "# Extract features from GRU model\n",
    "feature_model = Model(inputs=gru_model.input, outputs=gru_model.output)\n",
    "X_train_features = feature_model.predict(X_train)\n",
    "X_val_features = feature_model.predict(X_val)"
   ]
  },
  {
   "cell_type": "code",
   "execution_count": 47,
   "id": "39ea0cb7-5647-4335-98c3-f865a6add832",
   "metadata": {},
   "outputs": [],
   "source": [
    "# Train Random Forest on extracted features\n",
    "rf = RandomForestClassifier(n_estimators=100, random_state=42)\n",
    "rf.fit(X_train_features, y_train)\n",
    "\n",
    "y_pred = rf.predict(X_val_features)"
   ]
  },
  {
   "cell_type": "code",
   "execution_count": 48,
   "id": "d3be0e1d-d83a-4c3e-838d-3324157b8ee3",
   "metadata": {},
   "outputs": [
    {
     "name": "stdout",
     "output_type": "stream",
     "text": [
      "\n",
      "Evaluation Results:\n",
      "  Accuracy: 0.8048\n",
      "  Precision: 0.8062\n",
      "  Recall: 0.8048\n",
      "  F1-Score: 0.8053\n"
     ]
    },
    {
     "data": {
      "image/png": "[encoded data removed]",
      "text/plain": [
       "<Figure size 800x600 with 2 Axes>"
      ]
     },
     "metadata": {},
     "output_type": "display_data"
    }
   ],
   "source": [
    "# Evaluation\n",
    "accuracy = accuracy_score(y_val, y_pred)\n",
    "precision = precision_score(y_val, y_pred, average='weighted')\n",
    "recall = recall_score(y_val, y_pred, average='weighted')\n",
    "f1 = f1_score(y_val, y_pred, average='weighted')\n",
    "\n",
    "print(\"\\nEvaluation Results:\")\n",
    "print(f\"  Accuracy: {accuracy:.4f}\")\n",
    "print(f\"  Precision: {precision:.4f}\")\n",
    "print(f\"  Recall: {recall:.4f}\")\n",
    "print(f\"  F1-Score: {f1:.4f}\")\n",
    "\n",
    "cm = confusion_matrix(y_val, y_pred)\n",
    "plt.figure(figsize=(8, 6))\n",
    "sns.heatmap(cm, annot=True, fmt='d', cmap='Blues', xticklabels=le.classes_, yticklabels=le.classes_)\n",
    "plt.title('Confusion Matrix')\n",
    "plt.ylabel('True Label')\n",
    "plt.xlabel('Predicted Label')\n",
    "plt.show()"
   ]
  },
  {
   "cell_type": "code",
   "execution_count": null,
   "id": "9ad3caac-253b-42b7-92a9-eb48a4f3119a",
   "metadata": {},
   "outputs": [],
   "source": []
  }
 ],
 "metadata": {
  "kernelspec": {
   "display_name": "Python 3 (ipykernel)",
   "language": "python",
   "name": "python3"
  },
  "language_info": {
   "codemirror_mode": {
    "name": "ipython",
    "version": 3
   },
   "file_extension": ".py",
   "mimetype": "text/x-python",
   "name": "python",
   "nbconvert_exporter": "python",
   "pygments_lexer": "ipython3",
   "version": "3.12.10"
  }
 },
 "nbformat": 4,
 "nbformat_minor": 5
}
